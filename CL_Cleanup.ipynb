{
 "cells": [
  {
   "cell_type": "code",
   "execution_count": 1,
   "id": "5234f7a4",
   "metadata": {},
   "outputs": [],
   "source": [
    "from selenium import webdriver\n",
    "from selenium.webdriver.common.by import By\n",
    "from selenium.webdriver.support.ui import Select\n",
    "from selenium.webdriver.support.wait import WebDriverWait\n",
    "from selenium.webdriver.support import expected_conditions as EC\n",
    "from selenium.common.exceptions import TimeoutException\n",
    "from bs4 import BeautifulSoup\n",
    "import re\n",
    "import pandas as pd\n",
    "import numpy as np \n",
    "import plotly.express as px\n",
    "import geopy\n",
    "from geopy.distance import geodesic\n",
    "from geopy.geocoders import Nominatim\n",
    "from opencage.geocoder import OpenCageGeocode\n",
    "from pprint import pprint\n",
    "import time \n",
    "from bs4 import BeautifulSoup\n",
    "import requests"
   ]
  },
  {
   "cell_type": "code",
   "execution_count": null,
   "id": "b8ac9a69",
   "metadata": {},
   "outputs": [],
   "source": [
    "url = \"https://tippecanoe.craigslist.org/search/lafayette-in/sss?lat=40.3316&lon=-86.85&postal=49083&query=www.wantedoldmotorcycles.com&search_distance=1050#search=1~gallery~0~100\"\n",
    "\n",
    "driver = webdriver.Chrome()\n",
    "driver.get(url) \n",
    "time.sleep(30) #use this time to log into your account, then navigate to the search link above, or quickly punch in your own search\n",
    "\n",
    "soup = BeautifulSoup(driver.page_source, 'lxml')\n",
    "time.sleep(1)\n",
    "\n",
    "list_contents = [] \n",
    "#counter=0 \n",
    "#use the counter if you want to create a breakpoint for testing \n",
    "\n",
    "for link in soup.find_all(\"li\", class_=\"cl-search-result cl-search-view-mode-gallery\"):\n",
    "    list_contents.append(link['data-pid'])\n",
    "    #counter+=1\n",
    "    time.sleep(.1)\n",
    "    driver.get(link.a['href'])\n",
    "    driver.find_element(By.CLASS_NAME, \"flagIcon\").click()\n",
    "    time.sleep(1)\n",
    "    driver.back()\n",
    "    #if counter>5: break\n",
    "    \n",
    "df = pd.DataFrame({\"Contents\": list_contents})\n",
    "df.to_csv(\"output.csv\", index=False)\n",
    "\n",
    "driver.quit()"
   ]
  },
  {
   "cell_type": "code",
   "execution_count": 10,
   "id": "d3de4431",
   "metadata": {
    "scrolled": true
   },
   "outputs": [
    {
     "data": {
      "text/plain": [
       "'https://tallahassee.craigslist.org/wad/d/tallahassee-wanted-old-motorcycles/7686974115.html'"
      ]
     },
     "execution_count": 10,
     "metadata": {},
     "output_type": "execute_result"
    }
   ],
   "source": [
    "link.a['href']\n"
   ]
  }
 ],
 "metadata": {
  "kernelspec": {
   "display_name": "Python 3",
   "language": "python",
   "name": "python3"
  },
  "language_info": {
   "codemirror_mode": {
    "name": "ipython",
    "version": 3
   },
   "file_extension": ".py",
   "mimetype": "text/x-python",
   "name": "python",
   "nbconvert_exporter": "python",
   "pygments_lexer": "ipython3",
   "version": "3.8.8"
  }
 },
 "nbformat": 4,
 "nbformat_minor": 5
}
